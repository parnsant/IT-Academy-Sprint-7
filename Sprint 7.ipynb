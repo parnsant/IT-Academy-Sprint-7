{
 "cells": [
  {
   "cell_type": "markdown",
   "metadata": {},
   "source": [
    "NIVELL 1\n",
    "\n",
    "- Exercici 1\n",
    "Calculadora de l'índex de massa corporal\n",
    "\n",
    "Escriu una funció que calculi l'IMC ingressat per l'usuari/ària, és a dir, qui ho executi haurà d'ingressar aquestes dades. Pots obtenir més informació del seu càlcul en:\n",
    "\n",
    "-> Índice de masa corporal IMC que es y como se calcula.\n",
    "\n",
    "La funció ha de classificar el resultat en les seves respectives categories"
   ]
  },
  {
   "cell_type": "code",
   "execution_count": 1,
   "metadata": {},
   "outputs": [
    {
     "name": "stdout",
     "output_type": "stream",
     "text": [
      "\n",
      "El teu IMC és de 24.02. Tens pes normal.\n"
     ]
    }
   ],
   "source": [
    "\n",
    "# Definició de la funció de càlcul d'IMC\n",
    "def calcular_IMC(pes, alçada):\n",
    "\n",
    "    # Càlcul de l'IMC\n",
    "    IMC = round(pes / alçada**2, 2)\n",
    "\n",
    "    # Classificació segons l'IMC\n",
    "    if IMC < 18.5:\n",
    "        tipus = \"pes baix\"\n",
    "    elif IMC < 25:\n",
    "        tipus = \"pes normal\"\n",
    "    elif IMC < 27:\n",
    "        tipus = \"sobrepès de grau I\"\n",
    "    elif IMC < 30:\n",
    "        tipus = \"sobrepès de grau II\"\n",
    "    elif IMC < 35:\n",
    "        tipus = \"obesitat de grau I\"\n",
    "    elif IMC < 40:\n",
    "        tipus = \"obesitat de grau II\"\n",
    "    elif IMC <50:\n",
    "        tipus = \"obesitat de grau III\"\n",
    "    else:\n",
    "        tipus = \"obesitat de grau IV\"\n",
    "\n",
    "\n",
    "    # Mostra del resultat\n",
    "    print(f\"\\nEl teu IMC és de {IMC}. Tens {tipus}.\")\n",
    "\n",
    "# Funció per preguntar el pes i l'alçada\n",
    "\n",
    "def preguntes_IMC():\n",
    "    pes = float(input(\"Quants quilos peses? \"))\n",
    "    alçada = float(input(\"Quant medeixes en metres? \"))\n",
    "\n",
    "    return pes, alçada\n",
    "\n",
    "\n",
    "#Prova de les funcions \n",
    "\n",
    "pes, alçada = preguntes_IMC()\n",
    "\n",
    "calcular_IMC(pes, alçada)\n"
   ]
  },
  {
   "cell_type": "markdown",
   "metadata": {},
   "source": [
    "- Exercici 2\n",
    "Convertidor de temperatures.\n",
    "\n",
    "Existeixen diverses unitats de temperatura utilitzades en diferents contextos i regions. Les més comunes són Celsius (°C), Fahrenheit (°F) i Kelvin (K). També existeixen altres unitats com Rankine (°Ra) i Réaumur (°Re). Selecciona almenys 2 conversors, de tal manera que en introduir una temperatura retorni, com a mínim, dues conversions."
   ]
  },
  {
   "cell_type": "code",
   "execution_count": null,
   "metadata": {},
   "outputs": [
    {
     "name": "stdout",
     "output_type": "stream",
     "text": [
      "78.00 K són -195.15 °C.\n",
      "78.00 K són -319.27 °F.\n"
     ]
    }
   ],
   "source": [
    "# Definició de la funció\n",
    "def convertidor_temp(mesura):\n",
    "    mesura = mesura.lower()\n",
    "\n",
    "    # Segons la mesura, es fa la conversió corresponent\n",
    "    if mesura == \"celsius\":\n",
    "        celsius = float(input(\"Quants graus? \"))\n",
    "        fahrenheit = celsius * 9/5 + 32\n",
    "        kelvin = celsius + 273.15\n",
    "\n",
    "        print(f\"{celsius:.2f} °C són {fahrenheit:.2f} °F.\")\n",
    "        print(f\"{celsius:.2f} °C són {kelvin:.2f} K.\")\n",
    "\n",
    "    elif mesura == \"fahrenheit\":\n",
    "        fahrenheit = float(input(\"Quants graus? \"))\n",
    "        celsius = (fahrenheit - 32) * 5/9\n",
    "        kelvin = (fahrenheit + 459.67) * 5/9\n",
    "\n",
    "        print(f\"{fahrenheit:.2f} °F són {celsius:.2f} °C.\")\n",
    "        print(f\"{fahrenheit:.2f} °F són {kelvin:.2f} K.\")\n",
    "\n",
    "    elif mesura == \"kelvin\":\n",
    "        kelvin = float(input(\"Quants graus? \"))\n",
    "        celsius = kelvin - 273.15\n",
    "        fahrenheit = (kelvin - 273.15) * 9/5 + 32\n",
    "\n",
    "        print(f\"{kelvin:.2f} K són {celsius:.2f} °C.\")\n",
    "        print(f\"{kelvin:.2f} K són {fahrenheit:.2f} °F.\")\n",
    "\n",
    "\n",
    "# Funció per preguntar la mesura\n",
    "def pregunta_mesura():\n",
    "    return input(\"Quina mesura de temperatura vols convertir? Pots triar entre Celsius, Fahrenheit o Kelvin.\")\n",
    "\n",
    "# Crida de les funcions i comprovació\n",
    "mesura = pregunta_mesura()\n",
    "convertidor_temp(mesura)\n"
   ]
  },
  {
   "cell_type": "markdown",
   "metadata": {},
   "source": [
    "- Exercici 3\n",
    "Comptador de paraules d'un text.\n",
    "\n",
    "Escriu una funció que donat un text, mostri les vegades que apareix cada paraula."
   ]
  },
  {
   "cell_type": "code",
   "execution_count": 9,
   "metadata": {},
   "outputs": [
    {
     "name": "stdout",
     "output_type": "stream",
     "text": [
      "por: 1\n"
     ]
    }
   ],
   "source": [
    "# Definició de la funció de comptar paraules\n",
    "def comptar_paraules(text):\n",
    "    \n",
    "    # Convertir el text a minúscules\n",
    "    text = text.lower()\n",
    "\n",
    "    # Eliminar signes de puntuació\n",
    "    for signe in \"=1234567890.,;:!?/\\\"()[]{}\":\n",
    "        text = text.replace(signe, \"\")\n",
    "\n",
    "    # Dividir el text en paraules\n",
    "    paraulesdividides = text.split()\n",
    "\n",
    "    # Crear un diccionari per comptar les paraules\n",
    "    comptador = {}\n",
    "    for paraula in paraulesdividides:\n",
    "        if paraula in comptador:\n",
    "            comptador[paraula] += 1\n",
    "        else:\n",
    "            comptador[paraula] = 1\n",
    "\n",
    "    # Mostrar les paraules\n",
    "    for paraula in comptador:\n",
    "        print(f\"{paraula}: {comptador[paraula]}\")\n",
    "\n",
    "\n",
    "# Crida de la funció i prova de funcionament\n",
    "text = input(\"Escriu el text del qual vulguis comptar-ne les paraules.\")\n",
    "comptar_paraules(text)\n",
    "\n"
   ]
  },
  {
   "cell_type": "markdown",
   "metadata": {},
   "source": [
    "- Exercici 4\n",
    "Diccionari invers.\n",
    "\n",
    "Resulta que el client té una enquesta molt antiga que s'emmagatzema en un diccionari i els resultats els necessita al revés, és a dir, intercanviats les claus i els valors. Els valors i claus en el diccionari original són únics; si aquest no és el cas, la funció hauria d'imprimir un missatge d'advertiment."
   ]
  },
  {
   "cell_type": "code",
   "execution_count": 10,
   "metadata": {},
   "outputs": [
    {
     "name": "stdout",
     "output_type": "stream",
     "text": [
      "Error! La clau d està repetida!\n",
      "{'a': [1], 'c': [2], 'd': [3]}\n"
     ]
    }
   ],
   "source": [
    "# Definició de la funció per invertir el diccionari\n",
    "def invertir_diccionari(diccionari):\n",
    "\n",
    "    diccionari_inv = {}\n",
    "\n",
    "    for clau, valor in diccionari.items():\n",
    "        if valor in diccionari_inv:\n",
    "            print(f\"Error! La clau {valor} està repetida!\")\n",
    "        else:\n",
    "            diccionari_inv[valor] = [clau]\n",
    "\n",
    "    print(diccionari_inv)\n",
    "\n",
    "# Crida de la funció i prova de funcionament\n",
    "diccionari = {1:'a', 2:'c', 3:'d', 4:'d'}\n",
    "invertir_diccionari(diccionari)\n",
    "\n"
   ]
  },
  {
   "cell_type": "markdown",
   "metadata": {},
   "source": [
    "NIVELL 2\n",
    "\n",
    "- Exercici 1\n",
    "\n",
    "Diccionari invers amb duplicats\n",
    "\n",
    "Continuant amb l'exercici 4 del nivell 1: al client es va oblidar de comentar un detall i resulta que els valors en el diccionari original poden duplicar-se i més, per la qual cosa les claus intercanviades poden tenir duplicats. En aquest cas, en l'exercici anterior imprimies un missatge d'advertiment, ara, els valors del diccionari resultant hauran d'emmagatzemar-se com una llista. Tingues en compte que si és un valor únic no ha de ser una llista."
   ]
  },
  {
   "cell_type": "code",
   "execution_count": 13,
   "metadata": {},
   "outputs": [
    {
     "name": "stdout",
     "output_type": "stream",
     "text": [
      "{'a': 1, 'c': 2, 'd': [3, 4]}\n"
     ]
    }
   ],
   "source": [
    "# Definició de la funció per invertir el diccionari\n",
    "def invertir_diccionari_plus(diccionari):\n",
    "    diccionari_inv = {}\n",
    "\n",
    "    for clau, valor in diccionari.items():\n",
    "        if valor in diccionari_inv:\n",
    "            diccionari_inv[valor].append(clau)\n",
    "        else:\n",
    "            diccionari_inv[valor] = [clau]\n",
    "\n",
    "    # Convertir les llistes d'un sol element a format de diccionari\n",
    "    for clau in diccionari_inv:\n",
    "        if len(diccionari_inv[clau]) == 1:\n",
    "            diccionari_inv[clau] = diccionari_inv[clau][0]\n",
    "\n",
    "    return diccionari_inv\n",
    "\n",
    "# Crida de la funció i prova de funcionament\n",
    "diccionari = {1: 'a', 2: 'c', 3: 'd', 4: 'd'}\n",
    "diccionari_invertit = invertir_diccionari_plus(diccionari)\n",
    "print(diccionari_invertit)\n"
   ]
  }
 ],
 "metadata": {
  "kernelspec": {
   "display_name": "Python 3",
   "language": "python",
   "name": "python3"
  },
  "language_info": {
   "codemirror_mode": {
    "name": "ipython",
    "version": 3
   },
   "file_extension": ".py",
   "mimetype": "text/x-python",
   "name": "python",
   "nbconvert_exporter": "python",
   "pygments_lexer": "ipython3",
   "version": "3.11.9"
  }
 },
 "nbformat": 4,
 "nbformat_minor": 2
}
